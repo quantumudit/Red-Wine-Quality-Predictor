{
 "cells": [
  {
   "cell_type": "markdown",
   "metadata": {},
   "source": [
    "# Exploratory Data Analysis"
   ]
  },
  {
   "cell_type": "code",
   "execution_count": 1,
   "metadata": {},
   "outputs": [
    {
     "name": "stdout",
     "output_type": "stream",
     "text": [
      "Current working directory: notebooks\n",
      "Current working directory (Changed): Wine-Quality-Predictor\n"
     ]
    }
   ],
   "source": [
    "import os\n",
    "print(f\"Current working directory: {os.path.basename(os.getcwd())}\")\n",
    "\n",
    "# Change to root directory\n",
    "os.chdir(\"../\")\n",
    "print(f\"Current working directory (Changed): {os.path.basename(os.getcwd())}\")"
   ]
  },
  {
   "cell_type": "code",
   "execution_count": 2,
   "metadata": {},
   "outputs": [],
   "source": [
    "# Imports\n",
    "from src.constants import DATA_CONFIGS, DATA_SCHEMA\n",
    "from src.utils.common import read_yaml\n",
    "from os.path import normpath, join"
   ]
  },
  {
   "cell_type": "code",
   "execution_count": 3,
   "metadata": {},
   "outputs": [
    {
     "name": "stdout",
     "output_type": "stream",
     "text": [
      "[2024-01-26 12:23:07 PM]:ProjectLogger INFO: common 32 - yaml file: conf\\data_configs.yaml loaded successfully\n",
      "[2024-01-26 12:23:07 PM]:ProjectLogger INFO: common 32 - yaml file: conf\\schema.yaml loaded successfully\n"
     ]
    }
   ],
   "source": [
    "configs = read_yaml(DATA_CONFIGS).data_preparation\n",
    "schema = read_yaml(DATA_SCHEMA)"
   ]
  },
  {
   "cell_type": "code",
   "execution_count": 4,
   "metadata": {},
   "outputs": [
    {
     "name": "stdout",
     "output_type": "stream",
     "text": [
      "The raw datafile is: data\\raw\\wine_data.csv\n"
     ]
    }
   ],
   "source": [
    "raw_filepath = join(normpath(configs.raw_dir), configs.raw_filename)\n",
    "print(f\"The raw datafile is: {raw_filepath}\")"
   ]
  },
  {
   "cell_type": "code",
   "execution_count": 5,
   "metadata": {},
   "outputs": [],
   "source": [
    "#imports\n",
    "import numpy as np\n",
    "import pandas as pd\n",
    "import matplotlib.pyplot as plt\n",
    "import seaborn as sns\n",
    "import warnings\n",
    "\n",
    "# module setup\n",
    "%matplotlib inline\n",
    "pd.options.display.precision = 3\n",
    "warnings.filterwarnings(\"ignore\")"
   ]
  },
  {
   "cell_type": "code",
   "execution_count": 6,
   "metadata": {},
   "outputs": [],
   "source": [
    "# import helper functions\n",
    "\n",
    "from src.utils.eda_utils import dataframe_structure, dict_to_table, datatype_details\n",
    "from src.utils.eda_utils import regression_metrics"
   ]
  },
  {
   "cell_type": "code",
   "execution_count": 7,
   "metadata": {},
   "outputs": [
    {
     "data": {
      "text/html": [
       "<div>\n",
       "<style scoped>\n",
       "    .dataframe tbody tr th:only-of-type {\n",
       "        vertical-align: middle;\n",
       "    }\n",
       "\n",
       "    .dataframe tbody tr th {\n",
       "        vertical-align: top;\n",
       "    }\n",
       "\n",
       "    .dataframe thead th {\n",
       "        text-align: right;\n",
       "    }\n",
       "</style>\n",
       "<table border=\"1\" class=\"dataframe\">\n",
       "  <thead>\n",
       "    <tr style=\"text-align: right;\">\n",
       "      <th></th>\n",
       "      <th>fixed_acidity</th>\n",
       "      <th>volatile_acidity</th>\n",
       "      <th>citric_acid</th>\n",
       "      <th>residual_sugar</th>\n",
       "      <th>chlorides</th>\n",
       "      <th>free_sulfur_dioxide</th>\n",
       "      <th>total_sulfur_dioxide</th>\n",
       "      <th>density</th>\n",
       "      <th>pH</th>\n",
       "      <th>sulphates</th>\n",
       "      <th>alcohol</th>\n",
       "      <th>quality</th>\n",
       "      <th>color</th>\n",
       "    </tr>\n",
       "  </thead>\n",
       "  <tbody>\n",
       "    <tr>\n",
       "      <th>0</th>\n",
       "      <td>7.0</td>\n",
       "      <td>0.17</td>\n",
       "      <td>0.74</td>\n",
       "      <td>12.8</td>\n",
       "      <td>0.045</td>\n",
       "      <td>24.0</td>\n",
       "      <td>126.0</td>\n",
       "      <td>0.994</td>\n",
       "      <td>3.26</td>\n",
       "      <td>0.38</td>\n",
       "      <td>12.2</td>\n",
       "      <td>8</td>\n",
       "      <td>white</td>\n",
       "    </tr>\n",
       "    <tr>\n",
       "      <th>1</th>\n",
       "      <td>7.7</td>\n",
       "      <td>0.64</td>\n",
       "      <td>0.21</td>\n",
       "      <td>2.2</td>\n",
       "      <td>0.077</td>\n",
       "      <td>32.0</td>\n",
       "      <td>133.0</td>\n",
       "      <td>0.996</td>\n",
       "      <td>3.27</td>\n",
       "      <td>0.45</td>\n",
       "      <td>9.9</td>\n",
       "      <td>5</td>\n",
       "      <td>red</td>\n",
       "    </tr>\n",
       "    <tr>\n",
       "      <th>2</th>\n",
       "      <td>6.8</td>\n",
       "      <td>0.39</td>\n",
       "      <td>0.34</td>\n",
       "      <td>7.4</td>\n",
       "      <td>0.020</td>\n",
       "      <td>38.0</td>\n",
       "      <td>133.0</td>\n",
       "      <td>0.992</td>\n",
       "      <td>3.18</td>\n",
       "      <td>0.44</td>\n",
       "      <td>12.0</td>\n",
       "      <td>7</td>\n",
       "      <td>white</td>\n",
       "    </tr>\n",
       "    <tr>\n",
       "      <th>3</th>\n",
       "      <td>6.3</td>\n",
       "      <td>0.28</td>\n",
       "      <td>0.47</td>\n",
       "      <td>11.2</td>\n",
       "      <td>0.040</td>\n",
       "      <td>61.0</td>\n",
       "      <td>183.0</td>\n",
       "      <td>0.996</td>\n",
       "      <td>3.12</td>\n",
       "      <td>0.51</td>\n",
       "      <td>9.5</td>\n",
       "      <td>6</td>\n",
       "      <td>white</td>\n",
       "    </tr>\n",
       "    <tr>\n",
       "      <th>4</th>\n",
       "      <td>7.4</td>\n",
       "      <td>0.35</td>\n",
       "      <td>0.20</td>\n",
       "      <td>13.9</td>\n",
       "      <td>0.054</td>\n",
       "      <td>63.0</td>\n",
       "      <td>229.0</td>\n",
       "      <td>0.999</td>\n",
       "      <td>3.11</td>\n",
       "      <td>0.50</td>\n",
       "      <td>8.9</td>\n",
       "      <td>6</td>\n",
       "      <td>white</td>\n",
       "    </tr>\n",
       "  </tbody>\n",
       "</table>\n",
       "</div>"
      ],
      "text/plain": [
       "   fixed_acidity  volatile_acidity  citric_acid  residual_sugar  chlorides  \\\n",
       "0            7.0              0.17         0.74            12.8      0.045   \n",
       "1            7.7              0.64         0.21             2.2      0.077   \n",
       "2            6.8              0.39         0.34             7.4      0.020   \n",
       "3            6.3              0.28         0.47            11.2      0.040   \n",
       "4            7.4              0.35         0.20            13.9      0.054   \n",
       "\n",
       "   free_sulfur_dioxide  total_sulfur_dioxide  density    pH  sulphates  \\\n",
       "0                 24.0                 126.0    0.994  3.26       0.38   \n",
       "1                 32.0                 133.0    0.996  3.27       0.45   \n",
       "2                 38.0                 133.0    0.992  3.18       0.44   \n",
       "3                 61.0                 183.0    0.996  3.12       0.51   \n",
       "4                 63.0                 229.0    0.999  3.11       0.50   \n",
       "\n",
       "   alcohol  quality  color  \n",
       "0     12.2        8  white  \n",
       "1      9.9        5    red  \n",
       "2     12.0        7  white  \n",
       "3      9.5        6  white  \n",
       "4      8.9        6  white  "
      ]
     },
     "execution_count": 7,
     "metadata": {},
     "output_type": "execute_result"
    }
   ],
   "source": [
    "# import data from csv\n",
    "wine_quality_data = pd.read_csv(raw_filepath)\n",
    "\n",
    "# shuffling and creating a copy of it for working\n",
    "wine_df = wine_quality_data.copy(deep=True).sample(frac=1, random_state=42).reset_index(drop=True)\n",
    "\n",
    "# view the glimpse of the dataframe\n",
    "wine_df.head()"
   ]
  },
  {
   "cell_type": "code",
   "execution_count": 8,
   "metadata": {},
   "outputs": [
    {
     "name": "stdout",
     "output_type": "stream",
     "text": [
      "+----------------------+------------+\n",
      "| Dataframe Attributes | Value      |\n",
      "+----------------------+------------+\n",
      "| Dimensions           | 2          |\n",
      "| Shape                | (6497, 13) |\n",
      "| Row Count            | 6497       |\n",
      "| Column Count         | 13         |\n",
      "| Total Datapoints     | 84461      |\n",
      "| Null Datapoints      | 0          |\n",
      "| Non-Null Datapoints  | 84461      |\n",
      "| Total Memory Usage   | 1023456    |\n",
      "| Average Memory Usage | 73104.0    |\n",
      "+----------------------+------------+\n"
     ]
    }
   ],
   "source": [
    "# get the dataframe structure details\n",
    "df_structure = dataframe_structure(dataframe=wine_df)\n",
    "\n",
    "# prettify the dictionary response\n",
    "tbl = dict_to_table(input_dict=df_structure,\n",
    "                    column_headers=[\"Dataframe Attributes\", \"Value\"])\n",
    "\n",
    "# show table\n",
    "print(tbl)"
   ]
  },
  {
   "cell_type": "code",
   "execution_count": 9,
   "metadata": {},
   "outputs": [
    {
     "name": "stdout",
     "output_type": "stream",
     "text": [
      "<class 'pandas.core.frame.DataFrame'>\n",
      "RangeIndex: 6497 entries, 0 to 6496\n",
      "Data columns (total 13 columns):\n",
      " #   Column                Non-Null Count  Dtype  \n",
      "---  ------                --------------  -----  \n",
      " 0   fixed_acidity         6497 non-null   float64\n",
      " 1   volatile_acidity      6497 non-null   float64\n",
      " 2   citric_acid           6497 non-null   float64\n",
      " 3   residual_sugar        6497 non-null   float64\n",
      " 4   chlorides             6497 non-null   float64\n",
      " 5   free_sulfur_dioxide   6497 non-null   float64\n",
      " 6   total_sulfur_dioxide  6497 non-null   float64\n",
      " 7   density               6497 non-null   float64\n",
      " 8   pH                    6497 non-null   float64\n",
      " 9   sulphates             6497 non-null   float64\n",
      " 10  alcohol               6497 non-null   float64\n",
      " 11  quality               6497 non-null   int64  \n",
      " 12  color                 6497 non-null   object \n",
      "dtypes: float64(11), int64(1), object(1)\n",
      "memory usage: 999.5 KB\n"
     ]
    }
   ],
   "source": [
    "# get field details\n",
    "wine_df.info(memory_usage ='deep')"
   ]
  },
  {
   "cell_type": "code",
   "execution_count": 10,
   "metadata": {},
   "outputs": [
    {
     "name": "stdout",
     "output_type": "stream",
     "text": [
      "There are 1 fields with int64 datatype\n",
      "There are 1 fields with object datatype\n",
      "There are 11 fields with float64 datatype\n"
     ]
    }
   ],
   "source": [
    "# get details of teh datatypes\n",
    "datatype_details(wine_df)"
   ]
  },
  {
   "cell_type": "code",
   "execution_count": 11,
   "metadata": {},
   "outputs": [
    {
     "data": {
      "text/html": [
       "<style type=\"text/css\">\n",
       "#T_aae04_row4_col1 {\n",
       "  background-color: darkblue;\n",
       "}\n",
       "#T_aae04_row6_col1 {\n",
       "  background-color: brown;\n",
       "}\n",
       "</style>\n",
       "<table id=\"T_aae04\">\n",
       "  <thead>\n",
       "    <tr>\n",
       "      <th class=\"blank level0\" >&nbsp;</th>\n",
       "      <th id=\"T_aae04_level0_col0\" class=\"col_heading level0 col0\" >count</th>\n",
       "      <th id=\"T_aae04_level0_col1\" class=\"col_heading level0 col1\" >mean</th>\n",
       "      <th id=\"T_aae04_level0_col2\" class=\"col_heading level0 col2\" >std</th>\n",
       "      <th id=\"T_aae04_level0_col3\" class=\"col_heading level0 col3\" >min</th>\n",
       "      <th id=\"T_aae04_level0_col4\" class=\"col_heading level0 col4\" >25%</th>\n",
       "      <th id=\"T_aae04_level0_col5\" class=\"col_heading level0 col5\" >50%</th>\n",
       "      <th id=\"T_aae04_level0_col6\" class=\"col_heading level0 col6\" >75%</th>\n",
       "      <th id=\"T_aae04_level0_col7\" class=\"col_heading level0 col7\" >max</th>\n",
       "    </tr>\n",
       "  </thead>\n",
       "  <tbody>\n",
       "    <tr>\n",
       "      <th id=\"T_aae04_level0_row0\" class=\"row_heading level0 row0\" >fixed_acidity</th>\n",
       "      <td id=\"T_aae04_row0_col0\" class=\"data row0 col0\" >6497.00</td>\n",
       "      <td id=\"T_aae04_row0_col1\" class=\"data row0 col1\" >7.22</td>\n",
       "      <td id=\"T_aae04_row0_col2\" class=\"data row0 col2\" >1.30</td>\n",
       "      <td id=\"T_aae04_row0_col3\" class=\"data row0 col3\" >3.80</td>\n",
       "      <td id=\"T_aae04_row0_col4\" class=\"data row0 col4\" >6.40</td>\n",
       "      <td id=\"T_aae04_row0_col5\" class=\"data row0 col5\" >7.00</td>\n",
       "      <td id=\"T_aae04_row0_col6\" class=\"data row0 col6\" >7.70</td>\n",
       "      <td id=\"T_aae04_row0_col7\" class=\"data row0 col7\" >15.90</td>\n",
       "    </tr>\n",
       "    <tr>\n",
       "      <th id=\"T_aae04_level0_row1\" class=\"row_heading level0 row1\" >volatile_acidity</th>\n",
       "      <td id=\"T_aae04_row1_col0\" class=\"data row1 col0\" >6497.00</td>\n",
       "      <td id=\"T_aae04_row1_col1\" class=\"data row1 col1\" >0.34</td>\n",
       "      <td id=\"T_aae04_row1_col2\" class=\"data row1 col2\" >0.16</td>\n",
       "      <td id=\"T_aae04_row1_col3\" class=\"data row1 col3\" >0.08</td>\n",
       "      <td id=\"T_aae04_row1_col4\" class=\"data row1 col4\" >0.23</td>\n",
       "      <td id=\"T_aae04_row1_col5\" class=\"data row1 col5\" >0.29</td>\n",
       "      <td id=\"T_aae04_row1_col6\" class=\"data row1 col6\" >0.40</td>\n",
       "      <td id=\"T_aae04_row1_col7\" class=\"data row1 col7\" >1.58</td>\n",
       "    </tr>\n",
       "    <tr>\n",
       "      <th id=\"T_aae04_level0_row2\" class=\"row_heading level0 row2\" >citric_acid</th>\n",
       "      <td id=\"T_aae04_row2_col0\" class=\"data row2 col0\" >6497.00</td>\n",
       "      <td id=\"T_aae04_row2_col1\" class=\"data row2 col1\" >0.32</td>\n",
       "      <td id=\"T_aae04_row2_col2\" class=\"data row2 col2\" >0.15</td>\n",
       "      <td id=\"T_aae04_row2_col3\" class=\"data row2 col3\" >0.00</td>\n",
       "      <td id=\"T_aae04_row2_col4\" class=\"data row2 col4\" >0.25</td>\n",
       "      <td id=\"T_aae04_row2_col5\" class=\"data row2 col5\" >0.31</td>\n",
       "      <td id=\"T_aae04_row2_col6\" class=\"data row2 col6\" >0.39</td>\n",
       "      <td id=\"T_aae04_row2_col7\" class=\"data row2 col7\" >1.66</td>\n",
       "    </tr>\n",
       "    <tr>\n",
       "      <th id=\"T_aae04_level0_row3\" class=\"row_heading level0 row3\" >residual_sugar</th>\n",
       "      <td id=\"T_aae04_row3_col0\" class=\"data row3 col0\" >6497.00</td>\n",
       "      <td id=\"T_aae04_row3_col1\" class=\"data row3 col1\" >5.44</td>\n",
       "      <td id=\"T_aae04_row3_col2\" class=\"data row3 col2\" >4.76</td>\n",
       "      <td id=\"T_aae04_row3_col3\" class=\"data row3 col3\" >0.60</td>\n",
       "      <td id=\"T_aae04_row3_col4\" class=\"data row3 col4\" >1.80</td>\n",
       "      <td id=\"T_aae04_row3_col5\" class=\"data row3 col5\" >3.00</td>\n",
       "      <td id=\"T_aae04_row3_col6\" class=\"data row3 col6\" >8.10</td>\n",
       "      <td id=\"T_aae04_row3_col7\" class=\"data row3 col7\" >65.80</td>\n",
       "    </tr>\n",
       "    <tr>\n",
       "      <th id=\"T_aae04_level0_row4\" class=\"row_heading level0 row4\" >chlorides</th>\n",
       "      <td id=\"T_aae04_row4_col0\" class=\"data row4 col0\" >6497.00</td>\n",
       "      <td id=\"T_aae04_row4_col1\" class=\"data row4 col1\" >0.06</td>\n",
       "      <td id=\"T_aae04_row4_col2\" class=\"data row4 col2\" >0.04</td>\n",
       "      <td id=\"T_aae04_row4_col3\" class=\"data row4 col3\" >0.01</td>\n",
       "      <td id=\"T_aae04_row4_col4\" class=\"data row4 col4\" >0.04</td>\n",
       "      <td id=\"T_aae04_row4_col5\" class=\"data row4 col5\" >0.05</td>\n",
       "      <td id=\"T_aae04_row4_col6\" class=\"data row4 col6\" >0.07</td>\n",
       "      <td id=\"T_aae04_row4_col7\" class=\"data row4 col7\" >0.61</td>\n",
       "    </tr>\n",
       "    <tr>\n",
       "      <th id=\"T_aae04_level0_row5\" class=\"row_heading level0 row5\" >free_sulfur_dioxide</th>\n",
       "      <td id=\"T_aae04_row5_col0\" class=\"data row5 col0\" >6497.00</td>\n",
       "      <td id=\"T_aae04_row5_col1\" class=\"data row5 col1\" >30.53</td>\n",
       "      <td id=\"T_aae04_row5_col2\" class=\"data row5 col2\" >17.75</td>\n",
       "      <td id=\"T_aae04_row5_col3\" class=\"data row5 col3\" >1.00</td>\n",
       "      <td id=\"T_aae04_row5_col4\" class=\"data row5 col4\" >17.00</td>\n",
       "      <td id=\"T_aae04_row5_col5\" class=\"data row5 col5\" >29.00</td>\n",
       "      <td id=\"T_aae04_row5_col6\" class=\"data row5 col6\" >41.00</td>\n",
       "      <td id=\"T_aae04_row5_col7\" class=\"data row5 col7\" >289.00</td>\n",
       "    </tr>\n",
       "    <tr>\n",
       "      <th id=\"T_aae04_level0_row6\" class=\"row_heading level0 row6\" >total_sulfur_dioxide</th>\n",
       "      <td id=\"T_aae04_row6_col0\" class=\"data row6 col0\" >6497.00</td>\n",
       "      <td id=\"T_aae04_row6_col1\" class=\"data row6 col1\" >115.74</td>\n",
       "      <td id=\"T_aae04_row6_col2\" class=\"data row6 col2\" >56.52</td>\n",
       "      <td id=\"T_aae04_row6_col3\" class=\"data row6 col3\" >6.00</td>\n",
       "      <td id=\"T_aae04_row6_col4\" class=\"data row6 col4\" >77.00</td>\n",
       "      <td id=\"T_aae04_row6_col5\" class=\"data row6 col5\" >118.00</td>\n",
       "      <td id=\"T_aae04_row6_col6\" class=\"data row6 col6\" >156.00</td>\n",
       "      <td id=\"T_aae04_row6_col7\" class=\"data row6 col7\" >440.00</td>\n",
       "    </tr>\n",
       "    <tr>\n",
       "      <th id=\"T_aae04_level0_row7\" class=\"row_heading level0 row7\" >density</th>\n",
       "      <td id=\"T_aae04_row7_col0\" class=\"data row7 col0\" >6497.00</td>\n",
       "      <td id=\"T_aae04_row7_col1\" class=\"data row7 col1\" >0.99</td>\n",
       "      <td id=\"T_aae04_row7_col2\" class=\"data row7 col2\" >0.00</td>\n",
       "      <td id=\"T_aae04_row7_col3\" class=\"data row7 col3\" >0.99</td>\n",
       "      <td id=\"T_aae04_row7_col4\" class=\"data row7 col4\" >0.99</td>\n",
       "      <td id=\"T_aae04_row7_col5\" class=\"data row7 col5\" >0.99</td>\n",
       "      <td id=\"T_aae04_row7_col6\" class=\"data row7 col6\" >1.00</td>\n",
       "      <td id=\"T_aae04_row7_col7\" class=\"data row7 col7\" >1.04</td>\n",
       "    </tr>\n",
       "    <tr>\n",
       "      <th id=\"T_aae04_level0_row8\" class=\"row_heading level0 row8\" >pH</th>\n",
       "      <td id=\"T_aae04_row8_col0\" class=\"data row8 col0\" >6497.00</td>\n",
       "      <td id=\"T_aae04_row8_col1\" class=\"data row8 col1\" >3.22</td>\n",
       "      <td id=\"T_aae04_row8_col2\" class=\"data row8 col2\" >0.16</td>\n",
       "      <td id=\"T_aae04_row8_col3\" class=\"data row8 col3\" >2.72</td>\n",
       "      <td id=\"T_aae04_row8_col4\" class=\"data row8 col4\" >3.11</td>\n",
       "      <td id=\"T_aae04_row8_col5\" class=\"data row8 col5\" >3.21</td>\n",
       "      <td id=\"T_aae04_row8_col6\" class=\"data row8 col6\" >3.32</td>\n",
       "      <td id=\"T_aae04_row8_col7\" class=\"data row8 col7\" >4.01</td>\n",
       "    </tr>\n",
       "    <tr>\n",
       "      <th id=\"T_aae04_level0_row9\" class=\"row_heading level0 row9\" >sulphates</th>\n",
       "      <td id=\"T_aae04_row9_col0\" class=\"data row9 col0\" >6497.00</td>\n",
       "      <td id=\"T_aae04_row9_col1\" class=\"data row9 col1\" >0.53</td>\n",
       "      <td id=\"T_aae04_row9_col2\" class=\"data row9 col2\" >0.15</td>\n",
       "      <td id=\"T_aae04_row9_col3\" class=\"data row9 col3\" >0.22</td>\n",
       "      <td id=\"T_aae04_row9_col4\" class=\"data row9 col4\" >0.43</td>\n",
       "      <td id=\"T_aae04_row9_col5\" class=\"data row9 col5\" >0.51</td>\n",
       "      <td id=\"T_aae04_row9_col6\" class=\"data row9 col6\" >0.60</td>\n",
       "      <td id=\"T_aae04_row9_col7\" class=\"data row9 col7\" >2.00</td>\n",
       "    </tr>\n",
       "    <tr>\n",
       "      <th id=\"T_aae04_level0_row10\" class=\"row_heading level0 row10\" >alcohol</th>\n",
       "      <td id=\"T_aae04_row10_col0\" class=\"data row10 col0\" >6497.00</td>\n",
       "      <td id=\"T_aae04_row10_col1\" class=\"data row10 col1\" >10.49</td>\n",
       "      <td id=\"T_aae04_row10_col2\" class=\"data row10 col2\" >1.19</td>\n",
       "      <td id=\"T_aae04_row10_col3\" class=\"data row10 col3\" >8.00</td>\n",
       "      <td id=\"T_aae04_row10_col4\" class=\"data row10 col4\" >9.50</td>\n",
       "      <td id=\"T_aae04_row10_col5\" class=\"data row10 col5\" >10.30</td>\n",
       "      <td id=\"T_aae04_row10_col6\" class=\"data row10 col6\" >11.30</td>\n",
       "      <td id=\"T_aae04_row10_col7\" class=\"data row10 col7\" >14.90</td>\n",
       "    </tr>\n",
       "    <tr>\n",
       "      <th id=\"T_aae04_level0_row11\" class=\"row_heading level0 row11\" >quality</th>\n",
       "      <td id=\"T_aae04_row11_col0\" class=\"data row11 col0\" >6497.00</td>\n",
       "      <td id=\"T_aae04_row11_col1\" class=\"data row11 col1\" >5.82</td>\n",
       "      <td id=\"T_aae04_row11_col2\" class=\"data row11 col2\" >0.87</td>\n",
       "      <td id=\"T_aae04_row11_col3\" class=\"data row11 col3\" >3.00</td>\n",
       "      <td id=\"T_aae04_row11_col4\" class=\"data row11 col4\" >5.00</td>\n",
       "      <td id=\"T_aae04_row11_col5\" class=\"data row11 col5\" >6.00</td>\n",
       "      <td id=\"T_aae04_row11_col6\" class=\"data row11 col6\" >6.00</td>\n",
       "      <td id=\"T_aae04_row11_col7\" class=\"data row11 col7\" >9.00</td>\n",
       "    </tr>\n",
       "  </tbody>\n",
       "</table>\n"
      ],
      "text/plain": [
       "<pandas.io.formats.style.Styler at 0x192979b7e50>"
      ]
     },
     "execution_count": 11,
     "metadata": {},
     "output_type": "execute_result"
    }
   ],
   "source": [
    "# creating summary statistics\n",
    "summary_stats = wine_df.describe().transpose()\n",
    "\n",
    "\n",
    "\n",
    "# background gradient for mean values of the fields\n",
    "(summary_stats.style\n",
    "    .highlight_min(subset=['mean'], color='darkblue')\n",
    "    .highlight_max(subset=['mean'], color='brown')\n",
    "    .format('{:.2f}', precision=1)\n",
    ")\n",
    "# format and show statistics\n",
    "# summary_stats.style.format('{:.2f}', precision=1)"
   ]
  },
  {
   "cell_type": "code",
   "execution_count": 12,
   "metadata": {},
   "outputs": [
    {
     "data": {
      "image/png": "[encoded data removed]",
      "text/plain": [
       "<Figure size 640x480 with 1 Axes>"
      ]
     },
     "metadata": {},
     "output_type": "display_data"
    }
   ],
   "source": [
    "# create plot\n",
    "ax = sns.countplot(data=wine_df, x=\"color\", palette=\"flare\")\n",
    "\n",
    "# plot customization\n",
    "# ax.set_xticklabels([\"Malignant\", \"Benign\"])\n",
    "ax.set_xlabel(\"Wine Color\")\n",
    "ax.set_ylabel(\"Count\")\n",
    "ax.set_title(\"Distribution of Wine Color\", fontweight=\"bold\")\n",
    "\n",
    "# remove the top and right spines\n",
    "sns.despine()\n",
    "\n",
    "# show plot\n",
    "plt.show()"
   ]
  },
  {
   "cell_type": "code",
   "execution_count": 13,
   "metadata": {},
   "outputs": [
    {
     "data": {
      "text/plain": [
       "color\n",
       "white    0.754\n",
       "red      0.246\n",
       "Name: proportion, dtype: float64"
      ]
     },
     "execution_count": 13,
     "metadata": {},
     "output_type": "execute_result"
    }
   ],
   "source": [
    "# numerical counts\n",
    "wine_df[\"color\"].value_counts(normalize=True)"
   ]
  },
  {
   "cell_type": "code",
   "execution_count": 14,
   "metadata": {},
   "outputs": [
    {
     "data": {
      "image/png": "[encoded data removed]",
      "text/plain": [
       "<Figure size 1000x500 with 2 Axes>"
      ]
     },
     "metadata": {},
     "output_type": "display_data"
    }
   ],
   "source": [
    "# create correlation matrix for features\n",
    "corr_matrix = wine_df.drop(columns=\"color\").corr()\n",
    "\n",
    "# visualize correlation matrix\n",
    "plt.figure(figsize=(10, 5))\n",
    "sns.heatmap(corr_matrix, annot=True, cmap='coolwarm', \n",
    "            vmin=-1, vmax=1, \n",
    "            annot_kws={\"size\": 8, \"ha\": 'center',\"va\": 'center'}, fmt='.2f', \n",
    "            mask=np.triu(np.ones_like(corr_matrix, dtype=bool)))\n",
    "\n",
    "# show plot\n",
    "plt.show()"
   ]
  },
  {
   "cell_type": "code",
   "execution_count": 15,
   "metadata": {},
   "outputs": [],
   "source": [
    "# plt.style.use(\"ggplot\")\n",
    "\n",
    "# # temporary dataframe copy for visualization\n",
    "\n",
    "\n",
    "\n",
    "# sns.pairplot(wine_df,\n",
    "#              corner=True,\n",
    "#              diag_kind=\"hist\", \n",
    "#              markers=\"+\",\n",
    "#              hue=\"color\")\n",
    "\n",
    "# plt.show()\n",
    "\n",
    "# # reset the plotting style\n",
    "# plt.style.use(\"default\")"
   ]
  },
  {
   "cell_type": "code",
   "execution_count": 16,
   "metadata": {},
   "outputs": [
    {
     "data": {
      "text/html": [
       "<style type=\"text/css\">\n",
       "#T_f856f_row0_col0 {\n",
       "  background-color: #d2dbe8;\n",
       "  color: #000000;\n",
       "}\n",
       "#T_f856f_row1_col0 {\n",
       "  background-color: #b5cdfa;\n",
       "  color: #000000;\n",
       "}\n",
       "#T_f856f_row2_col0 {\n",
       "  background-color: #e8d6cc;\n",
       "  color: #000000;\n",
       "}\n",
       "#T_f856f_row3_col0, #T_f856f_row6_col0 {\n",
       "  background-color: #d7dce3;\n",
       "  color: #000000;\n",
       "}\n",
       "#T_f856f_row4_col0 {\n",
       "  background-color: #c0d4f5;\n",
       "  color: #000000;\n",
       "}\n",
       "#T_f856f_row5_col0 {\n",
       "  background-color: #e4d9d2;\n",
       "  color: #000000;\n",
       "}\n",
       "#T_f856f_row7_col0 {\n",
       "  background-color: #aec9fc;\n",
       "  color: #000000;\n",
       "  background-color: darkblue;\n",
       "}\n",
       "#T_f856f_row8_col0 {\n",
       "  background-color: #dfdbd9;\n",
       "  color: #000000;\n",
       "}\n",
       "#T_f856f_row9_col0 {\n",
       "  background-color: #e2dad5;\n",
       "  color: #000000;\n",
       "}\n",
       "#T_f856f_row10_col0 {\n",
       "  background-color: #f6a586;\n",
       "  color: #000000;\n",
       "  background-color: darkred;\n",
       "}\n",
       "</style>\n",
       "<table id=\"T_f856f\">\n",
       "  <thead>\n",
       "    <tr>\n",
       "      <th class=\"blank level0\" >&nbsp;</th>\n",
       "      <th id=\"T_f856f_level0_col0\" class=\"col_heading level0 col0\" >quality</th>\n",
       "    </tr>\n",
       "  </thead>\n",
       "  <tbody>\n",
       "    <tr>\n",
       "      <th id=\"T_f856f_level0_row0\" class=\"row_heading level0 row0\" >fixed_acidity</th>\n",
       "      <td id=\"T_f856f_row0_col0\" class=\"data row0 col0\" >-0.08</td>\n",
       "    </tr>\n",
       "    <tr>\n",
       "      <th id=\"T_f856f_level0_row1\" class=\"row_heading level0 row1\" >volatile_acidity</th>\n",
       "      <td id=\"T_f856f_row1_col0\" class=\"data row1 col0\" >-0.27</td>\n",
       "    </tr>\n",
       "    <tr>\n",
       "      <th id=\"T_f856f_level0_row2\" class=\"row_heading level0 row2\" >citric_acid</th>\n",
       "      <td id=\"T_f856f_row2_col0\" class=\"data row2 col0\" >0.09</td>\n",
       "    </tr>\n",
       "    <tr>\n",
       "      <th id=\"T_f856f_level0_row3\" class=\"row_heading level0 row3\" >residual_sugar</th>\n",
       "      <td id=\"T_f856f_row3_col0\" class=\"data row3 col0\" >-0.04</td>\n",
       "    </tr>\n",
       "    <tr>\n",
       "      <th id=\"T_f856f_level0_row4\" class=\"row_heading level0 row4\" >chlorides</th>\n",
       "      <td id=\"T_f856f_row4_col0\" class=\"data row4 col0\" >-0.20</td>\n",
       "    </tr>\n",
       "    <tr>\n",
       "      <th id=\"T_f856f_level0_row5\" class=\"row_heading level0 row5\" >free_sulfur_dioxide</th>\n",
       "      <td id=\"T_f856f_row5_col0\" class=\"data row5 col0\" >0.06</td>\n",
       "    </tr>\n",
       "    <tr>\n",
       "      <th id=\"T_f856f_level0_row6\" class=\"row_heading level0 row6\" >total_sulfur_dioxide</th>\n",
       "      <td id=\"T_f856f_row6_col0\" class=\"data row6 col0\" >-0.04</td>\n",
       "    </tr>\n",
       "    <tr>\n",
       "      <th id=\"T_f856f_level0_row7\" class=\"row_heading level0 row7\" >density</th>\n",
       "      <td id=\"T_f856f_row7_col0\" class=\"data row7 col0\" >-0.31</td>\n",
       "    </tr>\n",
       "    <tr>\n",
       "      <th id=\"T_f856f_level0_row8\" class=\"row_heading level0 row8\" >pH</th>\n",
       "      <td id=\"T_f856f_row8_col0\" class=\"data row8 col0\" >0.02</td>\n",
       "    </tr>\n",
       "    <tr>\n",
       "      <th id=\"T_f856f_level0_row9\" class=\"row_heading level0 row9\" >sulphates</th>\n",
       "      <td id=\"T_f856f_row9_col0\" class=\"data row9 col0\" >0.04</td>\n",
       "    </tr>\n",
       "    <tr>\n",
       "      <th id=\"T_f856f_level0_row10\" class=\"row_heading level0 row10\" >alcohol</th>\n",
       "      <td id=\"T_f856f_row10_col0\" class=\"data row10 col0\" >0.44</td>\n",
       "    </tr>\n",
       "  </tbody>\n",
       "</table>\n"
      ],
      "text/plain": [
       "<pandas.io.formats.style.Styler at 0x1929bfaba00>"
      ]
     },
     "execution_count": 16,
     "metadata": {},
     "output_type": "execute_result"
    }
   ],
   "source": [
    "# correlation of target with features\n",
    "target_to_feature_corr = wine_df.drop(columns=\"color\").corr()[[\"quality\"]].iloc[:-1,:].round(2)\n",
    "\n",
    "# adding background gradient to correlation coefficients\n",
    "target_to_feature_corr.style.background_gradient(cmap=\"coolwarm\", vmin=-1, vmax=1)\\\n",
    "                            .highlight_min(color='darkblue')\\\n",
    "                            .highlight_max(color='darkred')\\\n",
    "                            .format(\"{:.2f}\")"
   ]
  },
  {
   "cell_type": "code",
   "execution_count": 17,
   "metadata": {},
   "outputs": [
    {
     "name": "stdout",
     "output_type": "stream",
     "text": [
      "The features are:\n",
      "['fixed_acidity', 'volatile_acidity', 'citric_acid', 'residual_sugar', 'chlorides', 'free_sulfur_dioxide', 'total_sulfur_dioxide', 'density', 'pH', 'sulphates', 'alcohol', 'color']\n",
      "The target column is: ['quality']\n"
     ]
    }
   ],
   "source": [
    "features = list(schema.features.keys())\n",
    "target = list(schema.target.keys())\n",
    "\n",
    "print(f\"The features are:\\n{features}\")\n",
    "print(f\"The target column is: {target}\")"
   ]
  },
  {
   "cell_type": "code",
   "execution_count": 18,
   "metadata": {},
   "outputs": [
    {
     "name": "stdout",
     "output_type": "stream",
     "text": [
      "The numerical features are:\n",
      "['fixed_acidity', 'volatile_acidity', 'citric_acid', 'residual_sugar', 'chlorides', 'free_sulfur_dioxide', 'total_sulfur_dioxide', 'density', 'pH', 'sulphates', 'alcohol']\n",
      "The categorical features are:\n",
      "['color']\n"
     ]
    }
   ],
   "source": [
    "num_features = []\n",
    "cat_features = []\n",
    "\n",
    "for feature in schema.features.keys():\n",
    "    if schema.features[feature] in {\"float64\", \"int64\"}:\n",
    "        num_features.append(feature)\n",
    "    else:\n",
    "        cat_features.append(feature)\n",
    "        \n",
    "print(f\"The numerical features are:\\n{num_features}\")\n",
    "print(f\"The categorical features are:\\n{cat_features}\")"
   ]
  },
  {
   "cell_type": "code",
   "execution_count": 19,
   "metadata": {},
   "outputs": [],
   "source": [
    "from sklearn.preprocessing import OneHotEncoder, StandardScaler\n",
    "from sklearn.compose import ColumnTransformer\n",
    "from sklearn.impute import SimpleImputer\n",
    "from sklearn.pipeline import Pipeline"
   ]
  },
  {
   "cell_type": "code",
   "execution_count": 20,
   "metadata": {},
   "outputs": [
    {
     "name": "stdout",
     "output_type": "stream",
     "text": [
      "data\\train\\train_data.csv\n",
      "data\\test\\test_data.csv\n"
     ]
    }
   ],
   "source": [
    "train_filepath = join(normpath(configs.train_dir), configs.train_filename)\n",
    "test_filepath = join(normpath(configs.test_dir), configs.test_filename)\n",
    "\n",
    "print(train_filepath)\n",
    "print(test_filepath)"
   ]
  },
  {
   "cell_type": "code",
   "execution_count": 21,
   "metadata": {},
   "outputs": [],
   "source": [
    "train_df = pd.read_csv(train_filepath)\n",
    "test_df = pd.read_csv(test_filepath)"
   ]
  },
  {
   "cell_type": "code",
   "execution_count": 22,
   "metadata": {},
   "outputs": [
    {
     "name": "stdout",
     "output_type": "stream",
     "text": [
      "+-----------+------------+\n",
      "| Dataframe | Value      |\n",
      "+-----------+------------+\n",
      "| X_train   | (5197, 12) |\n",
      "| y_train   | (5197, 1)  |\n",
      "| X_test    | (1300, 12) |\n",
      "| y_test    | (1300, 1)  |\n",
      "+-----------+------------+\n"
     ]
    }
   ],
   "source": [
    "X_train, y_train = train_df[features], train_df[target]\n",
    "X_test, y_test = test_df[features], test_df[target]\n",
    "\n",
    "\n",
    "# view the shape of training and test set\n",
    "shape_dict = {\n",
    "        \"X_train\": X_train.shape,\n",
    "        \"y_train\": y_train.shape,\n",
    "        \"X_test\": X_test.shape,\n",
    "        \"y_test\": y_test.shape\n",
    "    }\n",
    "\n",
    "# prettify the dictionary output\n",
    "tbl = dict_to_table(input_dict=shape_dict,\n",
    "                    column_headers=[\"Dataframe\", \"Value\"])\n",
    "\n",
    "# show output\n",
    "print(tbl)"
   ]
  },
  {
   "cell_type": "code",
   "execution_count": 23,
   "metadata": {},
   "outputs": [],
   "source": [
    "num_pipeline = Pipeline(steps=[\n",
    "    (\"imputer\",SimpleImputer(strategy='median')),\n",
    "    ('scalar',StandardScaler())\n",
    "    ])"
   ]
  },
  {
   "cell_type": "code",
   "execution_count": 24,
   "metadata": {},
   "outputs": [],
   "source": [
    "cat_pipeline = Pipeline(steps=[\n",
    "            (\"imputer\",SimpleImputer(strategy=\"most_frequent\")),\n",
    "            (\"one_hot_encoder\",OneHotEncoder()),\n",
    "            (\"scaler\",StandardScaler(with_mean=False))\n",
    "            ])"
   ]
  },
  {
   "cell_type": "code",
   "execution_count": 25,
   "metadata": {},
   "outputs": [],
   "source": [
    "preprocessor = ColumnTransformer(\n",
    "                [\n",
    "                    (\"num_pipeline\", num_pipeline, num_features),\n",
    "                    (\"cat_pipeline\", cat_pipeline, cat_features)\n",
    "                ]\n",
    "            )"
   ]
  },
  {
   "cell_type": "code",
   "execution_count": 26,
   "metadata": {},
   "outputs": [],
   "source": [
    "X_train_normalized = preprocessor.fit_transform(X_train)\n",
    "X_test_normalized = preprocessor.transform(X_test)"
   ]
  },
  {
   "cell_type": "code",
   "execution_count": 27,
   "metadata": {},
   "outputs": [
    {
     "name": "stdout",
     "output_type": "stream",
     "text": [
      "[2024-01-26 12:23:16 PM]:ProjectLogger INFO: common 32 - yaml file: conf\\data_configs.yaml loaded successfully\n"
     ]
    },
    {
     "data": {
      "text/plain": [
       "Box({'train_dir': 'data/train/', 'normalized_X_train_filename': 'X_train_normalized.npy', 'y_train_filename': 'y_train.npy', 'test_dir': 'data/test/', 'normalized_X_test_filename': 'X_test_normalized.npy', 'y_test_filename': 'y_test.npy', 'models_dir': 'models/', 'preprocessor_filename': 'preprocessor.joblib'})"
      ]
     },
     "execution_count": 27,
     "metadata": {},
     "output_type": "execute_result"
    }
   ],
   "source": [
    "transform_configs =  read_yaml(DATA_CONFIGS).data_transformation\n",
    "transform_configs"
   ]
  },
  {
   "cell_type": "code",
   "execution_count": 28,
   "metadata": {},
   "outputs": [],
   "source": [
    "normalized_X_train_filepath = join(normpath(transform_configs.train_dir), transform_configs.normalized_X_train_filename) \n",
    "y_train_filepath = join(normpath(transform_configs.train_dir), transform_configs.y_train_filename)\n",
    "\n",
    "normalized_X_test_filepath = join(normpath(transform_configs.test_dir), transform_configs.normalized_X_test_filename) \n",
    "y_test_filepath = join(normpath(transform_configs.test_dir), transform_configs.y_test_filename)\n"
   ]
  },
  {
   "cell_type": "code",
   "execution_count": 29,
   "metadata": {},
   "outputs": [],
   "source": [
    "np.save(normalized_X_train_filepath, X_train_normalized)\n",
    "np.save(normalized_X_test_filepath, X_test_normalized)\n",
    "np.save(y_train_filepath, np.array(y_train.squeeze()))\n",
    "np.save(y_test_filepath, np.array(y_test.squeeze()))"
   ]
  },
  {
   "cell_type": "code",
   "execution_count": 30,
   "metadata": {},
   "outputs": [],
   "source": [
    "from src.utils.common import save_as_joblib"
   ]
  },
  {
   "cell_type": "code",
   "execution_count": 31,
   "metadata": {},
   "outputs": [
    {
     "data": {
      "text/plain": [
       "'models\\\\preprocessor.joblib'"
      ]
     },
     "execution_count": 31,
     "metadata": {},
     "output_type": "execute_result"
    }
   ],
   "source": [
    "preprocessor_filepath = join(normpath(transform_configs.models_dir), transform_configs.preprocessor_filename)\n",
    "preprocessor_filepath"
   ]
  },
  {
   "cell_type": "code",
   "execution_count": 32,
   "metadata": {},
   "outputs": [
    {
     "name": "stdout",
     "output_type": "stream",
     "text": [
      "[2024-01-26 12:25:17 PM]:ProjectLogger INFO: common 86 - object saved at: models\\preprocessor.joblib\n"
     ]
    }
   ],
   "source": [
    "save_as_joblib(file_path=preprocessor_filepath, serialized_object=preprocessor)"
   ]
  },
  {
   "cell_type": "code",
   "execution_count": null,
   "metadata": {},
   "outputs": [],
   "source": []
  }
 ],
 "metadata": {
  "kernelspec": {
   "display_name": "venv",
   "language": "python",
   "name": "python3"
  },
  "language_info": {
   "codemirror_mode": {
    "name": "ipython",
    "version": 3
   },
   "file_extension": ".py",
   "mimetype": "text/x-python",
   "name": "python",
   "nbconvert_exporter": "python",
   "pygments_lexer": "ipython3",
   "version": "3.10.11"
  }
 },
 "nbformat": 4,
 "nbformat_minor": 2
}
